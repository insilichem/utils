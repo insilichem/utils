{
 "cells": [
  {
   "cell_type": "markdown",
   "metadata": {},
   "source": [
    "### Script to calculate distances between atoms with pytraj\n",
    "\n",
    "Made by XFF\n"
   ]
  },
  {
   "cell_type": "code",
   "execution_count": 21,
   "metadata": {},
   "outputs": [],
   "source": [
    "#Calculate distances between the desired residues, atoms, etc\n",
    "%matplotlib inline\n",
    "import pytraj as pt\n",
    "import os\n",
    "import numpy as np\n",
    "import math\n",
    "import matplotlib.pyplot as plt\n",
    "from sklearn.decomposition import PCA\n",
    "import time\n"
   ]
  },
  {
   "cell_type": "code",
   "execution_count": null,
   "metadata": {},
   "outputs": [],
   "source": [
    "\n",
    "w_dir = '/media/xavi/99e463f2-6cec-40d5-85bb-b6aa84b4b648/gh3'\n",
    "save_dir = '/media/xavi/99e463f2-6cec-40d5-85bb-b6aa84b4b648/HRMOVA_PAPER/'\n",
    "\n",
    "target = 'WA'\n",
    "prod = '3'\n",
    "\n",
    "prod3 = ' G3OG3OG'\n",
    "prod6 = ' G3OG3OG3OG3OG3OG'\n",
    "gamd = ' GaMD'\n",
    "md = ' MD'\n",
    "\n",
    "\n",
    "tag = str(target) + prod3 + md\n",
    "dcd_path = 'w434a_mdcrd/dcd/w434a-nowat-fix-v2.dcd'\n",
    "prmtop_path = 'w434a_mdcrd/dcd/w434a-nowat.prmtop'\n"
   ]
  },
  {
   "cell_type": "code",
   "execution_count": 23,
   "metadata": {},
   "outputs": [
    {
     "name": "stdout",
     "output_type": "stream",
     "text": [
      "/media/xavi/99e463f2-6cec-40d5-85bb-b6aa84b4b648/gh3/w434a_mdcrd/dcd/w434a-nowat-fix-v2.dcd\n"
     ]
    }
   ],
   "source": [
    "TRAJECTORY_FILENAME = os.path.join(w_dir, dcd_path )\n",
    "TOPOLOGY_FILENAME = os.path.join(w_dir, prmtop_path)\n",
    "TRAJECTORY_LENGTH = 1000 #Length of the trajectory in ns (for correct axis labels in plots)\n",
    "print(TRAJECTORY_FILENAME)"
   ]
  },
  {
   "cell_type": "code",
   "execution_count": 24,
   "metadata": {
    "scrolled": true
   },
   "outputs": [
    {
     "name": "stdout",
     "output_type": "stream",
     "text": [
      "pytraj.Trajectory, 5000 frames: \n",
      "Size: 1.027398 (GB)\n",
      "<Topology: 9193 atoms, 610 residues, 5 mols, PBC with box type = ortho>\n",
      "           \n"
     ]
    }
   ],
   "source": [
    "trajectory = pt.iterload(TRAJECTORY_FILENAME, TOPOLOGY_FILENAME)\n",
    "trajectory = trajectory[:]\n",
    "trajectory = pt.align(trajectory)\n",
    "print(trajectory)"
   ]
  },
  {
   "cell_type": "code",
   "execution_count": 28,
   "metadata": {},
   "outputs": [],
   "source": [
    "if target == 'WT' and prod == '6':\n",
    "    head_trp = '@9292 @4437'\n",
    "    tail_trp = '@9208 @4437'\n",
    "\n",
    "if target == 'WH' and prod == '6':\n",
    "    head_trp = '@9241 @4393'\n",
    "    tail_trp = '@9157 @4393 '\n",
    "\n",
    "if target == 'WA' and prod == '6':\n",
    "\n",
    "    head_trp = '@9233 @4393'\n",
    "    tail_trp = '@9149 @4393'\n",
    "    \n",
    "if target == 'WT' and prod == '3':\n",
    "    head_trp = '@9204 @4437'\n",
    "    tail_trp = '@9183 @4437'\n",
    "\n",
    "if target == 'WH' and prod == '3':\n",
    "    head_trp = '@9153 @4393'\n",
    "    tail_trp = '@9132 @4393 '\n",
    "\n",
    "if target == 'WA' and prod == '3':\n",
    "\n",
    "    head_trp = '@9146 @4393'\n",
    "    tail_trp = '@9125 @4393'"
   ]
  },
  {
   "cell_type": "code",
   "execution_count": 29,
   "metadata": {},
   "outputs": [],
   "source": [
    "dist = pt.distance(trajectory, mask=head_trp)\n",
    "dist2 = pt.distance(trajectory, mask=tail_trp)\n"
   ]
  },
  {
   "cell_type": "code",
   "execution_count": 30,
   "metadata": {},
   "outputs": [
    {
     "name": "stdout",
     "output_type": "stream",
     "text": [
      "WA_WA G3OG3OG MD.pdf\n"
     ]
    }
   ],
   "source": [
    "output_graph = (str(target)+'_'+str(tag)+'.pdf') #Output filename for the plot\n",
    "print(output_graph)\n",
    "\n",
    "#DIST_COLOR = 'forestgreen' #Color of the line\n",
    "#MAX_DIST = math.ceil(dist.max()) #It can be modified if you want to change the scale of the plot"
   ]
  },
  {
   "cell_type": "code",
   "execution_count": 31,
   "metadata": {},
   "outputs": [
    {
     "name": "stdout",
     "output_type": "stream",
     "text": [
      "/media/xavi/99e463f2-6cec-40d5-85bb-b6aa84b4b648/HRMOVA_PAPER/WA_WA G3OG3OG MD.pdf\n"
     ]
    },
    {
     "data": {
      "image/png": "[encoded data removed]",
      "text/plain": [
       "<Figure size 432x288 with 1 Axes>"
      ]
     },
     "metadata": {
      "needs_background": "light"
     },
     "output_type": "display_data"
    }
   ],
   "source": [
    "plt.figure()\n",
    "plt.plot([TRAJECTORY_LENGTH*a/len(dist) for a in range(len(dist))], dist, linewidth=0.2, label='non-reducing end')#, color=DIST_COLOR)\n",
    "plt.plot([TRAJECTORY_LENGTH*a/len(dist2) for a in range(len(dist2))], dist2, linewidth=0.2, label='reducing end')\n",
    "#plt.ylim(0, MAX_DIST)\n",
    "plt.xlabel('Time (ns)')\n",
    "plt.ylabel('Distance (Å)')\n",
    "plt.title(str(tag))\n",
    "plt.legend()\n",
    "plt.savefig(str(save_dir+output_graph), bbox_inches='tight')\n",
    "\n",
    "print(save_dir+output_graph)"
   ]
  },
  {
   "cell_type": "code",
   "execution_count": null,
   "metadata": {},
   "outputs": [],
   "source": []
  },
  {
   "cell_type": "code",
   "execution_count": null,
   "metadata": {},
   "outputs": [],
   "source": []
  }
 ],
 "metadata": {
  "kernelspec": {
   "display_name": "md_analysis",
   "language": "python",
   "name": "md_analysis"
  },
  "language_info": {
   "codemirror_mode": {
    "name": "ipython",
    "version": 3
   },
   "file_extension": ".py",
   "mimetype": "text/x-python",
   "name": "python",
   "nbconvert_exporter": "python",
   "pygments_lexer": "ipython3",
   "version": "3.7.9"
  }
 },
 "nbformat": 4,
 "nbformat_minor": 5
}
